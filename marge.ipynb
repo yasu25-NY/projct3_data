{
 "cells": [
  {
   "cell_type": "code",
   "execution_count": 1,
   "id": "1f345007-c226-4dac-8f36-341ff781fe6a",
   "metadata": {},
   "outputs": [],
   "source": [
    "import pandas as pd"
   ]
  },
  {
   "cell_type": "code",
   "execution_count": 2,
   "id": "a001d1b9-0d6e-4ade-9f9b-7d77c093117c",
   "metadata": {},
   "outputs": [],
   "source": [
    "base_df = pd.read_csv('ai_regulation_list.csv')\n",
    "update_df = pd.read_csv('updated_ai_regulation_list_US3.csv')"
   ]
  },
  {
   "cell_type": "code",
   "execution_count": 3,
   "id": "05eb240c-4564-42d1-acd9-33671148bc9e",
   "metadata": {
    "scrolled": true
   },
   "outputs": [
    {
     "data": {
      "text/html": [
       "<div>\n",
       "<style scoped>\n",
       "    .dataframe tbody tr th:only-of-type {\n",
       "        vertical-align: middle;\n",
       "    }\n",
       "\n",
       "    .dataframe tbody tr th {\n",
       "        vertical-align: top;\n",
       "    }\n",
       "\n",
       "    .dataframe thead th {\n",
       "        text-align: right;\n",
       "    }\n",
       "</style>\n",
       "<table border=\"1\" class=\"dataframe\">\n",
       "  <thead>\n",
       "    <tr style=\"text-align: right;\">\n",
       "      <th></th>\n",
       "      <th>regulation_name</th>\n",
       "      <th>country</th>\n",
       "      <th>announced_date</th>\n",
       "      <th>enforcement_date</th>\n",
       "      <th>category</th>\n",
       "      <th>api_category</th>\n",
       "      <th>reference_point</th>\n",
       "      <th>purpose</th>\n",
       "      <th>keywords</th>\n",
       "      <th>official_link</th>\n",
       "      <th>status</th>\n",
       "    </tr>\n",
       "  </thead>\n",
       "  <tbody>\n",
       "    <tr>\n",
       "      <th>0</th>\n",
       "      <td>Emerging Innovative Border Technologies Act</td>\n",
       "      <td>United States</td>\n",
       "      <td>NaN</td>\n",
       "      <td>NaN</td>\n",
       "      <td>Law</td>\n",
       "      <td>acts_bills_reform</td>\n",
       "      <td>&lt;News summary only available for Tier 2 subscr...</td>\n",
       "      <td>NaN</td>\n",
       "      <td>NaN</td>\n",
       "      <td>https://www.congress.gov/bill/118th-congress/h...</td>\n",
       "      <td>Placed on Senate Legislative Calendar under Ge...</td>\n",
       "    </tr>\n",
       "    <tr>\n",
       "      <th>1</th>\n",
       "      <td>Creating Resources for Every American To Exper...</td>\n",
       "      <td>United States</td>\n",
       "      <td>NaN</td>\n",
       "      <td>NaN</td>\n",
       "      <td>Law</td>\n",
       "      <td>acts_bills_reform</td>\n",
       "      <td>&lt;News summary only available for Tier 2 subscr...</td>\n",
       "      <td>NaN</td>\n",
       "      <td>NaN</td>\n",
       "      <td>https://www.congress.gov/bill/118th-congress/h...</td>\n",
       "      <td>Ordered to be Reported (Amended) by Voice Vote.</td>\n",
       "    </tr>\n",
       "    <tr>\n",
       "      <th>2</th>\n",
       "      <td>Small Business Artificial Intelligence Trainin...</td>\n",
       "      <td>United States</td>\n",
       "      <td>NaN</td>\n",
       "      <td>NaN</td>\n",
       "      <td>Law</td>\n",
       "      <td>acts_bills_reform</td>\n",
       "      <td>&lt;News summary only available for Tier 2 subscr...</td>\n",
       "      <td>NaN</td>\n",
       "      <td>NaN</td>\n",
       "      <td>https://www.congress.gov/bill/118th-congress/s...</td>\n",
       "      <td>Placed on Senate Legislative Calendar under Ge...</td>\n",
       "    </tr>\n",
       "    <tr>\n",
       "      <th>3</th>\n",
       "      <td>AI Leadership To Enable Accountable Deployment...</td>\n",
       "      <td>United States</td>\n",
       "      <td>NaN</td>\n",
       "      <td>NaN</td>\n",
       "      <td>Law</td>\n",
       "      <td>acts_bills_reform</td>\n",
       "      <td>&lt;News summary only available for Tier 2 subscr...</td>\n",
       "      <td>NaN</td>\n",
       "      <td>NaN</td>\n",
       "      <td>https://www.congress.gov/bill/118th-congress/h...</td>\n",
       "      <td>Referred to the Committee on Oversight and Acc...</td>\n",
       "    </tr>\n",
       "  </tbody>\n",
       "</table>\n",
       "</div>"
      ],
      "text/plain": [
       "                                     regulation_name        country  \\\n",
       "0        Emerging Innovative Border Technologies Act  United States   \n",
       "1  Creating Resources for Every American To Exper...  United States   \n",
       "2  Small Business Artificial Intelligence Trainin...  United States   \n",
       "3  AI Leadership To Enable Accountable Deployment...  United States   \n",
       "\n",
       "  announced_date enforcement_date category       api_category  \\\n",
       "0            NaN              NaN      Law  acts_bills_reform   \n",
       "1            NaN              NaN      Law  acts_bills_reform   \n",
       "2            NaN              NaN      Law  acts_bills_reform   \n",
       "3            NaN              NaN      Law  acts_bills_reform   \n",
       "\n",
       "                                     reference_point  purpose  keywords  \\\n",
       "0  <News summary only available for Tier 2 subscr...      NaN       NaN   \n",
       "1  <News summary only available for Tier 2 subscr...      NaN       NaN   \n",
       "2  <News summary only available for Tier 2 subscr...      NaN       NaN   \n",
       "3  <News summary only available for Tier 2 subscr...      NaN       NaN   \n",
       "\n",
       "                                       official_link  \\\n",
       "0  https://www.congress.gov/bill/118th-congress/h...   \n",
       "1  https://www.congress.gov/bill/118th-congress/h...   \n",
       "2  https://www.congress.gov/bill/118th-congress/s...   \n",
       "3  https://www.congress.gov/bill/118th-congress/h...   \n",
       "\n",
       "                                              status  \n",
       "0  Placed on Senate Legislative Calendar under Ge...  \n",
       "1    Ordered to be Reported (Amended) by Voice Vote.  \n",
       "2  Placed on Senate Legislative Calendar under Ge...  \n",
       "3  Referred to the Committee on Oversight and Acc...  "
      ]
     },
     "execution_count": 3,
     "metadata": {},
     "output_type": "execute_result"
    }
   ],
   "source": [
    "# マージキー\n",
    "key_col = 'regulation_name'\n",
    "\n",
    "# 上書き対象カラム（announced_date も含む）\n",
    "merge_columns = ['announced_date', 'enforcement_date', 'category', 'official_link', 'status']\n",
    "\n",
    "# 実際に update_df にあるカラムだけを対象とする\n",
    "existing_merge_columns = [col for col in merge_columns if col in update_df.columns]\n",
    "\n",
    "# マージ実行\n",
    "merged_df = base_df.merge(\n",
    "    update_df[[key_col] + existing_merge_columns],\n",
    "    on=key_col,\n",
    "    how='left',\n",
    "    suffixes=('', '_updated')\n",
    ")\n",
    "\n",
    "# 上書き処理\n",
    "for col in existing_merge_columns:\n",
    "    updated_col = f'{col}_updated'\n",
    "    if updated_col in merged_df.columns:\n",
    "        merged_df[col] = merged_df[updated_col].combine_first(merged_df[col])\n",
    "        merged_df.drop(columns=[updated_col], inplace=True)\n",
    "\n",
    "# DF表示\n",
    "merged_df.head(4)"
   ]
  },
  {
   "cell_type": "code",
   "execution_count": 4,
   "id": "2aec1c85-9963-4a13-aec5-93d59797ec8e",
   "metadata": {},
   "outputs": [
    {
     "name": "stdout",
     "output_type": "stream",
     "text": [
      "マージできなかった（全列がNaN）行数: 0\n"
     ]
    }
   ],
   "source": [
    "# エラー件数（regulation_name が update_df に見つからず、すべての対象列が欠損）\n",
    "not_matched_mask = merged_df[existing_merge_columns].isnull().all(axis=1)\n",
    "missing_count = not_matched_mask.sum()\n",
    "print(f\"マージできなかった（全列がNaN）行数: {missing_count}\")"
   ]
  },
  {
   "cell_type": "code",
   "execution_count": 5,
   "id": "d0bab763-e6e7-4f0d-8636-e602570a654d",
   "metadata": {},
   "outputs": [],
   "source": [
    "# CSV出力\n",
    "merged_df.to_csv('ai_regulation_list2.csv', index=False)\n"
   ]
  },
  {
   "cell_type": "code",
   "execution_count": 10,
   "id": "10e289ca-58cb-4113-a4ec-366249bf2679",
   "metadata": {},
   "outputs": [
    {
     "name": "stdout",
     "output_type": "stream",
     "text": [
      "マージ完了：ai_regulation_list2_merged.csv を出力しました。\n"
     ]
    }
   ],
   "source": [
    "import pandas as pd\n",
    "\n",
    "# CSVファイルの読み込み\n",
    "df_main = pd.read_csv(\"ai_regulation_list3.csv\")\n",
    "df_eu = pd.read_csv(\"ai_regulation_listEU.csv\")\n",
    "\n",
    "# 全件追加（縦方向にマージ）\n",
    "df_merged = pd.concat([df_main, df_eu], ignore_index=True)\n",
    "\n",
    "# 新しいCSVファイルとして保存\n",
    "df_merged.to_csv(\"ai_regulation_list2_merged.csv\", index=False)\n",
    "\n",
    "print(\"マージ完了：ai_regulation_list2_merged.csv を出力しました。\")\n"
   ]
  },
  {
   "cell_type": "code",
   "execution_count": null,
   "id": "60eb2097-8347-49b0-b1e5-a10c0e3398a1",
   "metadata": {},
   "outputs": [],
   "source": []
  }
 ],
 "metadata": {
  "kernelspec": {
   "display_name": "Python 3 (ipykernel)",
   "language": "python",
   "name": "python3"
  },
  "language_info": {
   "codemirror_mode": {
    "name": "ipython",
    "version": 3
   },
   "file_extension": ".py",
   "mimetype": "text/x-python",
   "name": "python",
   "nbconvert_exporter": "python",
   "pygments_lexer": "ipython3",
   "version": "3.12.6"
  }
 },
 "nbformat": 4,
 "nbformat_minor": 5
}
