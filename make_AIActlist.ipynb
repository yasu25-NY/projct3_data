{
 "cells": [
  {
   "cell_type": "code",
   "execution_count": 1,
   "id": "a7aa3d5f-4322-4a56-af5d-f7a0810e07d8",
   "metadata": {},
   "outputs": [
    {
     "name": "stdout",
     "output_type": "stream",
     "text": [
      "Collecting techieray-ai-reg-tracker-api\n",
      "  Downloading techieray_ai_reg_tracker_api-2.0.1-py3-none-any.whl.metadata (9.7 kB)\n",
      "Requirement already satisfied: requests in /Users/gryphony2/.pyenv/versions/3.12.6/lib/python3.12/site-packages (from techieray-ai-reg-tracker-api) (2.32.3)\n",
      "Requirement already satisfied: charset-normalizer<4,>=2 in /Users/gryphony2/.pyenv/versions/3.12.6/lib/python3.12/site-packages (from requests->techieray-ai-reg-tracker-api) (3.4.2)\n",
      "Requirement already satisfied: idna<4,>=2.5 in /Users/gryphony2/.pyenv/versions/3.12.6/lib/python3.12/site-packages (from requests->techieray-ai-reg-tracker-api) (3.10)\n",
      "Requirement already satisfied: urllib3<3,>=1.21.1 in /Users/gryphony2/.pyenv/versions/3.12.6/lib/python3.12/site-packages (from requests->techieray-ai-reg-tracker-api) (2.4.0)\n",
      "Requirement already satisfied: certifi>=2017.4.17 in /Users/gryphony2/.pyenv/versions/3.12.6/lib/python3.12/site-packages (from requests->techieray-ai-reg-tracker-api) (2025.6.15)\n",
      "Downloading techieray_ai_reg_tracker_api-2.0.1-py3-none-any.whl (6.9 kB)\n",
      "Installing collected packages: techieray-ai-reg-tracker-api\n",
      "Successfully installed techieray-ai-reg-tracker-api-2.0.1\n",
      "\n",
      "\u001b[1m[\u001b[0m\u001b[34;49mnotice\u001b[0m\u001b[1;39;49m]\u001b[0m\u001b[39;49m A new release of pip is available: \u001b[0m\u001b[31;49m25.1.1\u001b[0m\u001b[39;49m -> \u001b[0m\u001b[32;49m25.2\u001b[0m\n",
      "\u001b[1m[\u001b[0m\u001b[34;49mnotice\u001b[0m\u001b[1;39;49m]\u001b[0m\u001b[39;49m To update, run: \u001b[0m\u001b[32;49mpip install --upgrade pip\u001b[0m\n"
     ]
    }
   ],
   "source": [
    "!pip install techieray-ai-reg-tracker-api"
   ]
  },
  {
   "cell_type": "code",
   "execution_count": 2,
   "id": "7f7cd670-00fb-45b9-9979-37e3757beeca",
   "metadata": {},
   "outputs": [
    {
     "name": "stdout",
     "output_type": "stream",
     "text": [
      "NOTE: The following terms apply to your access and use of the API service to the Global AI Regulation Tracker, which was developed by Raymond Sun (techie_ray) (Developer)), during the free trial period (as indicated within the relevant API key provided by Developer). Developer retains all intellectual property rights in the API service, including the implementation code, the API key, and the outputs returned by the API (subject to any third party rights). Outputs returned by the API may contain links to third party sources (i.e. the \"href\" attribute in the output). Your access to those third party sources are at your own risk. The Developer does not claim copyright to those third party sources, but owns the copyright in the summary relating to the third party source (i.e. the \"desc\" attribute). You may use the API service (and its outputs), free of charge, solely for personal use or internal business use throughout the free trial period. At this stage, the API service is not designed (and therefore not allowed) for commercial use (such as use of the API service in your own services to your customers). API service is provided on 'as is' basis, without warranty of any kind, express or implied, including but not limited to the warranties of merchantability, fitness for a particular purpose and warranties of merchantability, fitness for a particular purpose and non-infringement. In no event will the Developer be liable for any claim, damages or other liability, whether in an action of contract, tort or otherwise, arising from, out of or in connection with the API service. The Developer may modify or cancel any part of the API service without notice. Any feedback you provide to Developer about the API service will become the intellectual property of Developer. These terms are governed by the laws of New South Wales, Australia.\n"
     ]
    }
   ],
   "source": [
    "from techieray_ai_reg_tracker_api import GlobalAIRegulationTrackerClient\n",
    "\n",
    "api_key = \"APIキー\"\n",
    "client = GlobalAIRegulationTrackerClient(api_key)\n"
   ]
  },
  {
   "cell_type": "code",
   "execution_count": 34,
   "id": "2b378b2b-37eb-4234-9c84-cdfa2c1898e0",
   "metadata": {},
   "outputs": [
    {
     "name": "stdout",
     "output_type": "stream",
     "text": [
      "<class 'list'>\n",
      "[{'desc': '<News summary only available for Tier 2 subscription plan or above>', 'href': 'https://www.congress.gov/bill/118th-congress/house-bill/7832/text', 'label': 'Emerging Innovative Border Technologies Act:'}, {'desc': '<News summary only available for Tier 2 subscription plan or above>', 'href': 'https://www.congress.gov/bill/118th-congress/house-bill/5077?q=%7B%22search%22%3A%22Artificial+Intelligence%22%7D&s=2&r=2', 'label': 'Creating Resources for Every American To Experiment with Artificial Intelligence Act of 2023:'}]\n"
     ]
    }
   ],
   "source": [
    "# API確認\n",
    "response = client.call(market=\"US\", target_news=\"acts_bills_reform\", target_date=\"\")\n",
    "print(type(response))\n",
    "print(response[:2])  "
   ]
  },
  {
   "cell_type": "code",
   "execution_count": 33,
   "id": "07c70a85-b58a-439d-9d16-ec34e438dfcd",
   "metadata": {},
   "outputs": [
    {
     "name": "stdout",
     "output_type": "stream",
     "text": [
      "--- No.1 フィールド一覧 ---\n",
      "dict_keys(['desc', 'href', 'label'])\n",
      "--- No.2 フィールド一覧 ---\n",
      "dict_keys(['desc', 'href', 'label'])\n",
      "--- No.3 フィールド一覧 ---\n",
      "dict_keys(['desc', 'href', 'label'])\n"
     ]
    }
   ],
   "source": [
    "# APIのofficial_materialsの中身を確認\n",
    "response = client.call(market=\"GB\", target_news=\"official_materials\", target_date=\"\")\n",
    "for i, item in enumerate(response if isinstance(response, list) else response.get(\"newsItems\", []) if isinstance(response, dict) else []):\n",
    "    if isinstance(item, dict):\n",
    "        print(f\"--- No.{i+1} フィールド一覧 ---\")\n",
    "        print(item.keys())"
   ]
  },
  {
   "cell_type": "code",
   "execution_count": 35,
   "id": "5ca09094-b43b-412b-8cac-5df4e3caa850",
   "metadata": {},
   "outputs": [],
   "source": [
    "from techieray_ai_reg_tracker_api import GlobalAIRegulationTrackerClient\n",
    "import pandas as pd"
   ]
  },
  {
   "cell_type": "code",
   "execution_count": 36,
   "id": "da94b302-f42e-41a6-b5ea-aa987541b4d4",
   "metadata": {},
   "outputs": [
    {
     "name": "stdout",
     "output_type": "stream",
     "text": [
      "                                     regulation_name        country  \\\n",
      "0        Emerging Innovative Border Technologies Act  United States   \n",
      "1  Creating Resources for Every American To Exper...  United States   \n",
      "2  Small Business Artificial Intelligence Trainin...  United States   \n",
      "3  AI Leadership To Enable Accountable Deployment...  United States   \n",
      "4  Small Business Artificial Intelligence Advance...  United States   \n",
      "\n",
      "  announced_date enforcement_date category       api_category  \\\n",
      "0                                      Law  acts_bills_reform   \n",
      "1                                      Law  acts_bills_reform   \n",
      "2                                      Law  acts_bills_reform   \n",
      "3                                      Law  acts_bills_reform   \n",
      "4                                      Law  acts_bills_reform   \n",
      "\n",
      "                                     reference_point purpose keywords  \\\n",
      "0  <News summary only available for Tier 2 subscr...                    \n",
      "1  <News summary only available for Tier 2 subscr...                    \n",
      "2  <News summary only available for Tier 2 subscr...                    \n",
      "3  <News summary only available for Tier 2 subscr...                    \n",
      "4  <News summary only available for Tier 2 subscr...                    \n",
      "\n",
      "                                       official_link  \n",
      "0  https://www.congress.gov/bill/118th-congress/h...  \n",
      "1  https://www.congress.gov/bill/118th-congress/h...  \n",
      "2  https://www.congress.gov/bill/118th-congress/s...  \n",
      "3  https://www.congress.gov/bill/118th-congress/h...  \n",
      "4  https://www.congress.gov/bill/118th-congress/h...  \n"
     ]
    }
   ],
   "source": [
    "# 国リスト（リストAde）\n",
    "target_countries = {\n",
    "    \"EU\": \"European Union\",\n",
    "    \"US\": \"United States\",\n",
    "    \"GB\": \"United Kingdom\",\n",
    "    \"JP\": \"Japan\",\n",
    "    \"CN\": \"China\",\n",
    "    \"KR\": \"South Korea\",\n",
    "    \"IN\": \"India\",\n",
    "}\n",
    "\n",
    "# APIカテゴリと英語ラベルの対応\n",
    "category_labels = {\n",
    "    \"acts_bills_reform\": \"Law\",\n",
    "    \"guidelines_standards_frameworks\": \"Guideline\",\n",
    "    \"orders_admin_regs\": \"Order\",\n",
    "    \"official_materials\": \"Strategy\"\n",
    "}\n",
    "\n",
    "# DataFrameカラム\n",
    "columns = [\n",
    "    \"regulation_name\",       # 政策名\n",
    "    \"country\",               # 国名\n",
    "    \"announced_date\",        # 発表日・成立日\n",
    "    \"enforcement_date\",      # 施行日\n",
    "    \"category\",              # Law / Guideline / Order / Strategy\n",
    "    \"api_category\",          # APIカテゴリ原語\n",
    "    \"reference_point\",       # 要約\n",
    "    \"purpose\",               # 規制／推進　など（自動判別なら工夫可能）\n",
    "    \"keywords\",              # キーワード抜き出し（とりあえず空欄推奨）\n",
    "    \"official_link\"          # 公式リンク\n",
    "]\n",
    "\n",
    "records = []\n",
    "for code, name in target_countries.items():\n",
    "    for api_cat, eng_label in category_labels.items():\n",
    "        response = client.call(market=code, target_news=api_cat, target_date=\"\")\n",
    "        # 型対応（list型・dict型どちらでもOK）\n",
    "        items = (\n",
    "            response\n",
    "            if isinstance(response, list)\n",
    "            else response.get(\"newsItems\", [])\n",
    "            if isinstance(response, dict)\n",
    "            else []\n",
    "        )\n",
    "        for item in items:\n",
    "            if isinstance(item, dict):\n",
    "                records.append({\n",
    "                    \"regulation_name\": item.get(\"label\", \"\").replace(\":\", \"\").strip(),\n",
    "                    \"country\": name,\n",
    "                    \"announced_date\": item.get(\"announcedDate\", \"\"),\n",
    "                    \"enforcement_date\": item.get(\"enforcementDate\", \"\"),\n",
    "                    \"category\": eng_label,\n",
    "                    \"api_category\": api_cat,\n",
    "                    \"reference_point\": item.get(\"desc\", \"\"),\n",
    "                    \"purpose\": \"\",      # 目的・性格。手動補記orNLP自動判定も可\n",
    "                    \"keywords\": \"\",     # 関連ワード。必要あれば後処理で\n",
    "                    \"official_link\": item.get(\"href\", \"\"),\n",
    "                })\n",
    "\n",
    "# DataFrame化\n",
    "df = pd.DataFrame(records, columns=columns)\n",
    "print(df.head())"
   ]
  },
  {
   "cell_type": "code",
   "execution_count": 37,
   "id": "9f22e637-24f5-4bea-83b3-f66fb8710d8b",
   "metadata": {},
   "outputs": [],
   "source": [
    "df.to_csv(\"ai_regulation_list.csv\", index=False)"
   ]
  },
  {
   "cell_type": "code",
   "execution_count": null,
   "id": "047437e1-3ea1-4683-9498-52c78dffbac4",
   "metadata": {},
   "outputs": [],
   "source": []
  },
  {
   "cell_type": "code",
   "execution_count": 14,
   "id": "b57686cb-c1eb-4433-ad75-fe74f73a4fb1",
   "metadata": {},
   "outputs": [
    {
     "name": "stdout",
     "output_type": "stream",
     "text": [
      "                                   regulation_name         country  \\\n",
      "0        [WITHDRAWN] AI Liability Directive (2022)  European Union   \n",
      "1  New Product Liability Directive (2022/0302/COD)  European Union   \n",
      "2                     EU AI Act (2024/1689) (2024)  European Union   \n",
      "3       General-Purpose AI Code of Practice (2025)  European Union   \n",
      "4     Guidelines on prohibited AI practices (2025)  European Union   \n",
      "\n",
      "  announced_date enforcement_date   category                     api_category  \\\n",
      "0                                        Law                acts_bills_reform   \n",
      "1                                        Law                acts_bills_reform   \n",
      "2                                        Law                acts_bills_reform   \n",
      "3                                  Guideline  guidelines_standards_frameworks   \n",
      "4                                  Guideline  guidelines_standards_frameworks   \n",
      "\n",
      "                                     reference_point purpose keywords  \\\n",
      "0  <News summary only available for Tier 2 subscr...                    \n",
      "1  <News summary only available for Tier 2 subscr...                    \n",
      "2  <News summary only available for Tier 2 subscr...                    \n",
      "3  <News summary only available for Tier 2 subscr...                    \n",
      "4  <News summary only available for Tier 2 subscr...                    \n",
      "\n",
      "                                       official_link  \n",
      "0  https://commission.europa.eu/business-economy-...  \n",
      "1     https://eur-lex.europa.eu/eli/dir/2024/2853/oj  \n",
      "2  https://eur-lex.europa.eu/legal-content/EN/TXT...  \n",
      "3  https://digital-strategy.ec.europa.eu/en/polic...  \n",
      "4  https://digital-strategy.ec.europa.eu/en/libra...  \n"
     ]
    }
   ],
   "source": [
    "# 国リスト（リストAde）\n",
    "target_countries = {\n",
    "    \"Europe\": \"European Union\",\n",
    "}\n",
    "\n",
    "# APIカテゴリと英語ラベルの対応\n",
    "category_labels = {\n",
    "    \"acts_bills_reform\": \"Law\",\n",
    "    \"guidelines_standards_frameworks\": \"Guideline\",\n",
    "    \"orders_admin_regs\": \"Order\",\n",
    "    \"official_materials\": \"Strategy\"\n",
    "}\n",
    "\n",
    "# DataFrameカラム\n",
    "columns = [\n",
    "    \"regulation_name\",       # 政策名\n",
    "    \"country\",               # 国名\n",
    "    \"announced_date\",        # 発表日・成立日\n",
    "    \"enforcement_date\",      # 施行日\n",
    "    \"category\",              # Law / Guideline / Order / Strategy\n",
    "    \"api_category\",          # APIカテゴリ原語\n",
    "    \"reference_point\",       # 要約\n",
    "    \"purpose\",               # 規制／推進　など（自動判別なら工夫可能）\n",
    "    \"keywords\",              # キーワード抜き出し（とりあえず空欄推奨）\n",
    "    \"official_link\"          # 公式リンク\n",
    "]\n",
    "\n",
    "records = []\n",
    "for code, name in target_countries.items():\n",
    "    for api_cat, eng_label in category_labels.items():\n",
    "        response = client.call(market=code, target_news=api_cat, target_date=\"\")\n",
    "        # 型対応（list型・dict型どちらでもOK）\n",
    "        items = (\n",
    "            response\n",
    "            if isinstance(response, list)\n",
    "            else response.get(\"newsItems\", [])\n",
    "            if isinstance(response, dict)\n",
    "            else []\n",
    "        )\n",
    "        for item in items:\n",
    "            if isinstance(item, dict):\n",
    "                records.append({\n",
    "                    \"regulation_name\": item.get(\"label\", \"\").replace(\":\", \"\").strip(),\n",
    "                    \"country\": name,\n",
    "                    \"announced_date\": item.get(\"announcedDate\", \"\"),\n",
    "                    \"enforcement_date\": item.get(\"enforcementDate\", \"\"),\n",
    "                    \"category\": eng_label,\n",
    "                    \"api_category\": api_cat,\n",
    "                    \"reference_point\": item.get(\"desc\", \"\"),\n",
    "                    \"purpose\": \"\",      # 目的・性格。手動補記orNLP自動判定も可\n",
    "                    \"keywords\": \"\",     # 関連ワード。必要あれば後処理で\n",
    "                    \"official_link\": item.get(\"href\", \"\"),\n",
    "                })\n",
    "\n",
    "# DataFrame化\n",
    "df = pd.DataFrame(records, columns=columns)\n",
    "print(df.head())"
   ]
  },
  {
   "cell_type": "code",
   "execution_count": 15,
   "id": "a2b60024-24b4-45c9-988f-53de73503669",
   "metadata": {},
   "outputs": [],
   "source": [
    "df.to_csv(\"ai_regulation_listEU.csv\", index=False)"
   ]
  },
  {
   "cell_type": "code",
   "execution_count": 9,
   "id": "1d2970dc-b6ad-4bc0-87c1-f6f9efd1376a",
   "metadata": {},
   "outputs": [
    {
     "name": "stdout",
     "output_type": "stream",
     "text": [
      "\n",
      "=== Raw response (France - Law) ===\n",
      "<class 'list'>\n",
      "['Error - the key \"acts_bills_reform\" is not currently available for France. Please try another key.']\n"
     ]
    }
   ],
   "source": [
    "# 一度だけ確認\n",
    "response = client.call(market=\"FR\", target_news=\"acts_bills_reform\", target_date=\"\")\n",
    "print(\"\\n=== Raw response (France - Law) ===\")\n",
    "print(type(response))\n",
    "print(response)\n"
   ]
  },
  {
   "cell_type": "code",
   "execution_count": null,
   "id": "c437d990-de5f-46d9-bc81-4c9bc32e536f",
   "metadata": {},
   "outputs": [],
   "source": []
  },
  {
   "cell_type": "code",
   "execution_count": null,
   "id": "c2986d65-f7a8-4a53-88ef-516bbf2daf96",
   "metadata": {},
   "outputs": [],
   "source": []
  }
 ],
 "metadata": {
  "kernelspec": {
   "display_name": "Python 3 (ipykernel)",
   "language": "python",
   "name": "python3"
  },
  "language_info": {
   "codemirror_mode": {
    "name": "ipython",
    "version": 3
   },
   "file_extension": ".py",
   "mimetype": "text/x-python",
   "name": "python",
   "nbconvert_exporter": "python",
   "pygments_lexer": "ipython3",
   "version": "3.12.6"
  }
 },
 "nbformat": 4,
 "nbformat_minor": 5
}
