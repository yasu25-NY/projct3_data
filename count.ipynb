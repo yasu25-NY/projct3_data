{
 "cells": [
  {
   "cell_type": "code",
   "execution_count": 1,
   "id": "92ac1119-b0bd-4a69-a4d7-295c6fddcd6a",
   "metadata": {},
   "outputs": [
    {
     "name": "stdout",
     "output_type": "stream",
     "text": [
      "           country   category  count\n",
      "0            China  Guideline      3\n",
      "1            China        Law      5\n",
      "2            China   Strategy      1\n",
      "3   European Union  Guideline      4\n",
      "4   European Union        Law      2\n",
      "5   European Union   Strategy      1\n",
      "6            India  Guideline      2\n",
      "7            India        Law      1\n",
      "8            India   Strategy      1\n",
      "9            Japan  Guideline      8\n",
      "10           Japan        Law      1\n",
      "11           Japan   Strategy      1\n",
      "12     South Korea        Law      3\n",
      "13     South Korea   Strategy      1\n",
      "14  United Kingdom  Guideline      5\n",
      "15  United Kingdom   Strategy      1\n",
      "16  United Kingdom    Toolkit      1\n",
      "17  United Kingdom       tool      1\n",
      "18   United States   Guidance      1\n",
      "19   United States  Guideline      7\n",
      "20   United States      Order      3\n",
      "21   United States   strategy      4\n",
      "22   United States       tool      1\n"
     ]
    }
   ],
   "source": [
    "import pandas as pd\n",
    "\n",
    "# Excelファイルの読み込み（ファイル名は適宜変更）\n",
    "file_path = \"ListSummary.xlsx\"\n",
    "df = pd.read_excel(file_path, sheet_name=\"Sheet1\")\n",
    "\n",
    "# country別にcategoryの件数を集計\n",
    "category_counts = df.groupby(['country', 'category']).size().reset_index(name='count')\n",
    "\n",
    "# 結果の表示\n",
    "print(category_counts)\n",
    "\n",
    "# CSVとして保存（任意）\n",
    "category_counts.to_csv(\"category_counts_by_country.csv\", index=False, encoding=\"utf-8-sig\")\n"
   ]
  },
  {
   "cell_type": "code",
   "execution_count": 3,
   "id": "398ffae4-949d-4364-b482-930877e5ecb0",
   "metadata": {},
   "outputs": [
    {
     "name": "stdout",
     "output_type": "stream",
     "text": [
      "category        Guidance  Guideline  Law  Order  Strategy  Toolkit  strategy  \\\n",
      "country                                                                        \n",
      "China                  0          3    5      0         1        0         0   \n",
      "European Union         0          4    2      0         1        0         0   \n",
      "India                  0          2    1      0         1        0         0   \n",
      "Japan                  0          8    1      0         1        0         0   \n",
      "South Korea            0          0    3      0         1        0         0   \n",
      "United Kingdom         0          5    0      0         1        1         0   \n",
      "United States          1          7    0      3         0        0         4   \n",
      "\n",
      "category        tool  \n",
      "country               \n",
      "China              0  \n",
      "European Union     0  \n",
      "India              0  \n",
      "Japan              0  \n",
      "South Korea        0  \n",
      "United Kingdom     1  \n",
      "United States      1  \n"
     ]
    }
   ],
   "source": [
    "import pandas as pd\n",
    "\n",
    "# Excelファイルのパス\n",
    "file_path = \"ListSummary.xlsx\"\n",
    "\n",
    "# データの読み込み\n",
    "df = pd.read_excel(file_path)\n",
    "\n",
    "# クロス集計（ピボットテーブル）作成：行がcountry、列がcategory\n",
    "pivot = pd.pivot_table(\n",
    "    df,\n",
    "    index=\"country\",      # 国名を行\n",
    "    columns=\"category\",   # カテゴリ名を列\n",
    "    values=\"regulation_name\",\n",
    "    aggfunc=\"count\",\n",
    "    fill_value=0          # 件数0を0で表示\n",
    ")\n",
    "\n",
    "# 結果の表示\n",
    "print(pivot)\n",
    "\n",
    "# 必要ならExcelやCSVに出力\n",
    "# pivot.to_excel(\"pivot_result.xlsx\")\n",
    "# pivot.to_csv(\"pivot_result.csv\")\n"
   ]
  },
  {
   "cell_type": "code",
   "execution_count": 4,
   "id": "fdd0891d-d7b3-45c3-a434-dc03f6e9e134",
   "metadata": {},
   "outputs": [
    {
     "name": "stdout",
     "output_type": "stream",
     "text": [
      "pivot_result.csv に出力しました。\n"
     ]
    }
   ],
   "source": [
    "# CSVに保存\n",
    "pivot.to_csv(\"pivot_result.csv\", encoding=\"utf-8-sig\")  # 文字化け防止のためutf-8-sig推奨\n",
    "\n",
    "print(\"pivot_result.csv に出力しました。\")\n"
   ]
  },
  {
   "cell_type": "code",
   "execution_count": null,
   "id": "bc009181-c855-47f1-93eb-d23cadfced69",
   "metadata": {},
   "outputs": [],
   "source": []
  }
 ],
 "metadata": {
  "kernelspec": {
   "display_name": "Python 3 (ipykernel)",
   "language": "python",
   "name": "python3"
  },
  "language_info": {
   "codemirror_mode": {
    "name": "ipython",
    "version": 3
   },
   "file_extension": ".py",
   "mimetype": "text/x-python",
   "name": "python",
   "nbconvert_exporter": "python",
   "pygments_lexer": "ipython3",
   "version": "3.12.6"
  }
 },
 "nbformat": 4,
 "nbformat_minor": 5
}
